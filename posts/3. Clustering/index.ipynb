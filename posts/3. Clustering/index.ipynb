{
  "cells": [
    {
      "cell_type": "raw",
      "metadata": {},
      "source": [
        "---\n",
        "title: \"3\\\\. Machine Learning in Clustering\"\n",
        "author: \"Saim Ehtesham Ali\"\n",
        "date: \"2023-11-22\"\n",
        "categories: [Clustering, ML, ML Basics]\n",
        "output: html_document\n",
        "image: \"ml 3.png\"\n",
        "format:\n",
        "  html:\n",
        "    code-fold: true\n",
        "code-fold: true\n",
        "keep-ipynb: true\n",
        "---"
      ],
      "id": "6568c29d"
    },
    {
      "cell_type": "markdown",
      "metadata": {},
      "source": [
        "# **Machine Learning in Clustering: Understanding DBSCAN**\n",
        "\n",
        "Clustering is a significant machine learning task that involves grouping a set of objects in such a way that objects in the same group are more similar to each other than to those in other groups. One robust and widely-used method in clustering is DBSCAN (Density-Based Spatial Clustering of Applications with Noise). This blog post explores DBSCAN and demonstrates its application using a real-world dataset.\n",
        "\n",
        "## **DBSCAN in Machine Learning**\n",
        "\n",
        "-   **Handling Noise**: One of the key strengths of DBSCAN is its ability to identify and deal with noise in the data. It can effectively separate outliers from core groups in the dataset.\n",
        "\n",
        "-   **No Need to Specify Number of Clusters**: Unlike many clustering algorithms, DBSCAN doesn't require you to specify the number of clusters beforehand. It determines the number of clusters based on the data.\n",
        "\n",
        "-   **Flexibility in Cluster Shapes**: DBSCAN can find arbitrarily shaped clusters. It's not limited to finding spherical clusters like k-means, making it more versatile for real-world data.\n",
        "\n",
        "## **Example: DBSCAN Clustering on Public Dataset**\n",
        "\n",
        "For this example, we will use a publicly available dataset and apply the DBSCAN algorithm to identify clusters within it. We'll visualize the results using a scatter plot, labeling the different clusters identified by DBSCAN.\n",
        "\n",
        "### **Python Code for DBSCAN Clustering**\n"
      ],
      "id": "ff0aef9a"
    },
    {
      "cell_type": "code",
      "metadata": {},
      "source": [
        "# Import necessary libraries\n",
        "import matplotlib.pyplot as plt\n",
        "from sklearn.cluster import DBSCAN\n",
        "from sklearn import datasets\n",
        "\n",
        "# Load a sample dataset (Iris dataset)\n",
        "iris = datasets.load_iris()\n",
        "X = iris.data[:, :2]  # We only take the first two features for simplicity\n",
        "\n",
        "# Apply DBSCAN\n",
        "dbscan = DBSCAN(eps=0.5, min_samples=5)\n",
        "clusters = dbscan.fit_predict(X)\n",
        "\n",
        "# Plotting\n",
        "plt.scatter(X[:, 0], X[:, 1], c=clusters, cmap='viridis', label='Cluster Label')\n",
        "plt.title('DBSCAN Clustering on Iris Dataset')\n",
        "plt.xlabel('Feature 1')\n",
        "plt.ylabel('Feature 2')\n",
        "plt.legend()\n",
        "plt.show()"
      ],
      "id": "7b09b9bc",
      "execution_count": null,
      "outputs": []
    },
    {
      "cell_type": "markdown",
      "metadata": {},
      "source": [
        "In this example, we use the Iris dataset, a classic dataset in machine learning. We apply the **`DBSCAN`** algorithm from Scikit-learn, specifying an epsilon value for the neighborhood size and the minimum number of samples required to form a cluster. The result is visualized in a scatter plot, where each color represents a different cluster as identified by DBSCAN.\n",
        "\n",
        "## **Understanding the Scatter Plot**\n",
        "\n",
        "The scatter plot demonstrates how DBSCAN clusters the data points. Each color in the plot represents a different cluster, while outliers (points not belonging to any cluster) can also be identified. This visualization provides a clear understanding of how DBSCAN segregates data into distinct groups and identifies noise, offering insights into the structure of the data."
      ],
      "id": "8baf39d7"
    }
  ],
  "metadata": {
    "kernelspec": {
      "name": "python3",
      "language": "python",
      "display_name": "Python 3 (ipykernel)"
    }
  },
  "nbformat": 4,
  "nbformat_minor": 5
}